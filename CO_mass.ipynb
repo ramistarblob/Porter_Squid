{
 "cells": [
  {
   "cell_type": "code",
   "execution_count": 6,
   "id": "19627943",
   "metadata": {},
   "outputs": [],
   "source": [
    "from line_squid_library import *\n",
    "#from spectral_cube import SpectralCube\n",
    "import astropy.constants as c\n",
    "import astropy.units as u"
   ]
  },
  {
   "cell_type": "code",
   "execution_count": 7,
   "id": "241c2732",
   "metadata": {},
   "outputs": [],
   "source": [
    "#constants\n",
    "\n",
    "h = 6.62607e-34 # mks\n",
    "c_light = 2.99792e+8  # mks\n",
    "ckms = 2.99792e+5  # km/s\n",
    "k = 1.380648e-23 # mks\n",
    "pc=3.086e16 # m"
   ]
  },
  {
   "cell_type": "code",
   "execution_count": 8,
   "id": "791924af",
   "metadata": {},
   "outputs": [],
   "source": [
    "\n",
    "# Partition function table for CO (temperature in K, partition function Z)\n",
    "Z_CO = np.flipud(np.array([\n",
    "    [2000, 726.7430],\n",
    "    [1000., 362.6910],\n",
    "    [500.0, 181.3025],\n",
    "    [300.0, 108.8651],\n",
    "    [225.0, 81.7184],\n",
    "    [150.0, 54.5814],\n",
    "    [75.00, 27.4545],\n",
    "    [37.50, 13.8965],\n",
    "    [18.75, 7.1223],\n",
    "    [9.375, 3.7435],\n",
    "    [5.000, 2.1824],\n",
    "    [2.725, 1.4053]\n",
    "]))\n",
    "\n",
    "def x(j, Ej, T, molecule='CO'):\n",
    "    # Ej, Energy in K\n",
    "    # T, Temperature in K\n",
    "    # j, upper level\n",
    "    if molecule == 'CO':\n",
    "        Z = Z_CO\n",
    "        Zt = np.interp(T, Z[:,0], Z[:,1])\n",
    "    gj=(2*j)+1\n",
    "    xj=gj*np.exp(-Ej/T)/Zt\n",
    "    return xj\n",
    "\n",
    "def M_molecule(dpc, nu, j, Ej, Fjykms, T, A, molecule='CO'):\n",
    "    # Molecular weights (in atomic mass units)\n",
    "    if molecule=='CO':\n",
    "        mol_mass=28.0\n",
    "\n",
    "    Fmks=Fjykms*(nu/ckms)*1.0e-26\n",
    "    d=dpc*pc # m\n",
    "    m_molecule=1.672e-27*(mol_mass) # kg\n",
    "    return (4.0*np.pi)*(m_molecule)*(d**2.0)*(Fmks)/( h*nu*A*(x(j, Ej, T, molecule=molecule)) )\n",
    "\n"
   ]
  },
  {
   "cell_type": "code",
   "execution_count": 16,
   "id": "96a0d29c",
   "metadata": {},
   "outputs": [
    {
     "name": "stdout",
     "output_type": "stream",
     "text": [
      "7.422038360373443e+22 kg 0.012427712222225685\n",
      "1.841137039201302e+23 kg 0.030828621699178545\n"
     ]
    }
   ],
   "source": [
    "## CO mass estimate lower region\n",
    "Fjykms = 26.7061 \n",
    "dpc = 140 #pc\n",
    "nu = 230.538e9 # hz\n",
    "j = 2 \n",
    "Ej = 16.60 # K\n",
    "T_20 = 20 #K\n",
    "T_100 = 100 #K \n",
    "A = 6.910e-07 #s-1 from https://home.strw.leidenuniv.nl/~moldata/datafiles/co.dat\n",
    "\n",
    "\n",
    "m_lower_comp_20 = M_molecule(dpc, nu, j, Ej, Fjykms, T_20, A, molecule='CO')\n",
    "m_lower_comp_100 = M_molecule(dpc, nu, j, Ej, Fjykms, T_100, A, molecule='CO')\n",
    "\n",
    "\n",
    "print(m_lower_comp_20*u.kg, (m_lower_comp_20*u.kg)/c.M_earth)\n",
    "print(m_lower_comp_100*u.kg, (m_lower_comp_100*u.kg)/c.M_earth)\n"
   ]
  },
  {
   "cell_type": "code",
   "execution_count": 17,
   "id": "62505cc4",
   "metadata": {},
   "outputs": [
    {
     "name": "stdout",
     "output_type": "stream",
     "text": [
      "2.9637739575052333e+22 kg 0.0049626434204725275\n",
      "7.352042315109448e+22 kg 0.01231050847508808\n"
     ]
    }
   ],
   "source": [
    "# CO mass estimate upper region\n",
    "Fjykms = 10.6643\n",
    "dpc = 140 #pc\n",
    "nu = 230.538e9 # hz\n",
    "j = 2 \n",
    "Ej = 16.60 # K\n",
    "T_20 = 20 #K\n",
    "T_100 = 100 #K \n",
    "A = 6.910e-07 #s-1 from https://home.strw.leidenuniv.nl/~moldata/datafiles/co.dat\n",
    "\n",
    "\n",
    "m_lower_comp_20 = M_molecule(dpc, nu, j, Ej, Fjykms, T_20, A, molecule='CO')\n",
    "m_lower_comp_100 = M_molecule(dpc, nu, j, Ej, Fjykms, T_100, A, molecule='CO')\n",
    "\n",
    "\n",
    "print(m_lower_comp_20*u.kg, (m_lower_comp_20*u.kg)/c.M_earth)\n",
    "print(m_lower_comp_100*u.kg, (m_lower_comp_100*u.kg)/c.M_earth)\n"
   ]
  },
  {
   "cell_type": "code",
   "execution_count": 19,
   "id": "25a9f44d",
   "metadata": {},
   "outputs": [
    {
     "name": "stdout",
     "output_type": "stream",
     "text": [
      "1.075307761282004e+23 kg 0.0180053170822821\n",
      "2.667446396406546e+23 kg 0.04466462523252914\n"
     ]
    }
   ],
   "source": [
    "#CO mass total upper+lower\n",
    "\n",
    "Fjykms = 38.6919\n",
    "dpc = 140 #pc\n",
    "nu = 230.538e9 # hz\n",
    "j = 2 \n",
    "Ej = 16.60 # K\n",
    "T_20 = 20 #K\n",
    "T_100 = 100 #K \n",
    "A = 6.910e-07 #s-1 from https://home.strw.leidenuniv.nl/~moldata/datafiles/co.dat\n",
    "\n",
    "\n",
    "m_lower_comp_20 = M_molecule(dpc, nu, j, Ej, Fjykms, T_20, A, molecule='CO')\n",
    "m_lower_comp_100 = M_molecule(dpc, nu, j, Ej, Fjykms, T_100, A, molecule='CO')\n",
    "\n",
    "\n",
    "print(m_lower_comp_20*u.kg, (m_lower_comp_20*u.kg)/c.M_earth)\n",
    "print(m_lower_comp_100*u.kg, (m_lower_comp_100*u.kg)/c.M_earth)"
   ]
  },
  {
   "cell_type": "code",
   "execution_count": 20,
   "id": "ea11d981",
   "metadata": {},
   "outputs": [
    {
     "name": "stdout",
     "output_type": "stream",
     "text": [
      "6.502860731550848e+22 kg 0.01088861009185887\n",
      "1.6131225914363945e+23 kg 0.027010670616547116\n"
     ]
    }
   ],
   "source": [
    "#spanning same aperture as C18O\n",
    "\n",
    "\n",
    "Fjykms = 23.3987\n",
    "dpc = 140 #pc\n",
    "nu = 230.538e9 # hz\n",
    "j = 2 \n",
    "Ej = 16.60 # K\n",
    "T_20 = 20 #K\n",
    "T_100 = 100 #K \n",
    "A = 6.910e-07 #s-1 from https://home.strw.leidenuniv.nl/~moldata/datafiles/co.dat\n",
    "\n",
    "\n",
    "m_lower_comp_20 = M_molecule(dpc, nu, j, Ej, Fjykms, T_20, A, molecule='CO')\n",
    "m_lower_comp_100 = M_molecule(dpc, nu, j, Ej, Fjykms, T_100, A, molecule='CO')\n",
    "\n",
    "\n",
    "print(m_lower_comp_20*u.kg, (m_lower_comp_20*u.kg)/c.M_earth)\n",
    "print(m_lower_comp_100*u.kg, (m_lower_comp_100*u.kg)/c.M_earth)"
   ]
  }
 ],
 "metadata": {
  "kernelspec": {
   "display_name": "base",
   "language": "python",
   "name": "python3"
  },
  "language_info": {
   "codemirror_mode": {
    "name": "ipython",
    "version": 3
   },
   "file_extension": ".py",
   "mimetype": "text/x-python",
   "name": "python",
   "nbconvert_exporter": "python",
   "pygments_lexer": "ipython3",
   "version": "3.12.3"
  }
 },
 "nbformat": 4,
 "nbformat_minor": 5
}
